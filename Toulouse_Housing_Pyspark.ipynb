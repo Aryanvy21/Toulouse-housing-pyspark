{
  "nbformat": 4,
  "nbformat_minor": 0,
  "metadata": {
    "colab": {
      "name": "Toulouse Housing Pyspark.ipynb",
      "provenance": [],
      "collapsed_sections": []
    },
    "kernelspec": {
      "name": "python3",
      "display_name": "Python 3"
    },
    "language_info": {
      "name": "python"
    }
  },
  "cells": [
    {
      "cell_type": "code",
      "execution_count": null,
      "metadata": {
        "id": "NilehTdiIG5p"
      },
      "outputs": [],
      "source": [
        "!apt-get install openjdk-8-jdk-headless -qq > /dev/null"
      ]
    },
    {
      "cell_type": "code",
      "source": [
        "!wget -q https://dlcdn.apache.org/spark/spark-3.2.1/spark-3.2.1-bin-hadoop3.2.tgz"
      ],
      "metadata": {
        "id": "0M0RmvZ1IJPs"
      },
      "execution_count": null,
      "outputs": []
    },
    {
      "cell_type": "code",
      "source": [
        "!tar xf spark-3.2.1-bin-hadoop3.2.tgz"
      ],
      "metadata": {
        "id": "dp-n3oHyIQna"
      },
      "execution_count": null,
      "outputs": []
    },
    {
      "cell_type": "code",
      "source": [
        "!pip install -q findspark"
      ],
      "metadata": {
        "id": "yAow-wnpITCM"
      },
      "execution_count": null,
      "outputs": []
    },
    {
      "cell_type": "code",
      "source": [
        "import os\n",
        "os.environ[\"JAVA_HOME\"] = \"/usr/lib/jvm/java-8-openjdk-amd64\"\n",
        "os.environ[\"SPARK_HOME\"] = \"/content/spark-3.2.1-bin-hadoop3.2\""
      ],
      "metadata": {
        "id": "a4PLSR6SIVp3"
      },
      "execution_count": null,
      "outputs": []
    },
    {
      "cell_type": "code",
      "source": [
        "!pip install pyspark"
      ],
      "metadata": {
        "colab": {
          "base_uri": "https://localhost:8080/"
        },
        "id": "ZAWGcqyhIihu",
        "outputId": "a24a8dfa-f107-4d5f-925a-e97786105188"
      },
      "execution_count": null,
      "outputs": [
        {
          "output_type": "stream",
          "name": "stdout",
          "text": [
            "Collecting pyspark\n",
            "  Downloading pyspark-3.2.1.tar.gz (281.4 MB)\n",
            "\u001b[K     |████████████████████████████████| 281.4 MB 31 kB/s \n",
            "\u001b[?25hCollecting py4j==0.10.9.3\n",
            "  Downloading py4j-0.10.9.3-py2.py3-none-any.whl (198 kB)\n",
            "\u001b[K     |████████████████████████████████| 198 kB 45.0 MB/s \n",
            "\u001b[?25hBuilding wheels for collected packages: pyspark\n",
            "  Building wheel for pyspark (setup.py) ... \u001b[?25l\u001b[?25hdone\n",
            "  Created wheel for pyspark: filename=pyspark-3.2.1-py2.py3-none-any.whl size=281853642 sha256=b3087b0c6f2e2230ef4710fa27e71255f9108e1cb00c5a8b005a8ff299d379fa\n",
            "  Stored in directory: /root/.cache/pip/wheels/9f/f5/07/7cd8017084dce4e93e84e92efd1e1d5334db05f2e83bcef74f\n",
            "Successfully built pyspark\n",
            "Installing collected packages: py4j, pyspark\n",
            "Successfully installed py4j-0.10.9.3 pyspark-3.2.1\n"
          ]
        }
      ]
    },
    {
      "cell_type": "code",
      "source": [
        "# import all required modules\n",
        "import matplotlib.pyplot as plt\n",
        "import numpy as np\n",
        "import seaborn as sn\n",
        "from pyspark import SparkContext\n",
        "from  pyspark.sql  import SQLContext\n",
        "from pyspark.sql.functions import mean, min, max, avg, stddev, desc, isnull, col, log, lit\n",
        "from pyspark.mllib.stat import Statistics\n",
        "from pyspark.sql.types import DoubleType"
      ],
      "metadata": {
        "id": "CvOz3Dy8IlPb"
      },
      "execution_count": null,
      "outputs": []
    },
    {
      "cell_type": "code",
      "source": [
        "import warnings\n",
        "warnings.filterwarnings(\"ignore\", category=FutureWarning)\n",
        "warnings.filterwarnings(\"ignore\", category=DeprecationWarning)\n",
        "import seaborn as sns\n",
        "import pandas as pd \n",
        "import matplotlib.pyplot as plt\n",
        "import pyspark\n",
        "from pyspark.sql.types import *\n",
        "spark = pyspark.sql.SparkSession.builder.appName(\"Spark-Dataframe-SQL-real-estate\").getOrCreate()"
      ],
      "metadata": {
        "id": "fuyHvsunJNg6"
      },
      "execution_count": null,
      "outputs": []
    },
    {
      "cell_type": "code",
      "source": [
        "!pip -q install pyspark flasgger"
      ],
      "metadata": {
        "colab": {
          "base_uri": "https://localhost:8080/"
        },
        "id": "cGIBxWTyJSP3",
        "outputId": "4d51c222-e474-4e80-8cc6-4f31b2beed05"
      },
      "execution_count": null,
      "outputs": [
        {
          "output_type": "stream",
          "name": "stdout",
          "text": [
            "\u001b[K     |████████████████████████████████| 3.8 MB 3.3 MB/s \n",
            "\u001b[?25h"
          ]
        }
      ]
    },
    {
      "cell_type": "code",
      "source": [
        "import plotly.express as px\n",
        "from pyspark.sql import SparkSession, functions as f"
      ],
      "metadata": {
        "id": "14h7pHyFJU-g"
      },
      "execution_count": null,
      "outputs": []
    },
    {
      "cell_type": "code",
      "source": [
        "spark = SparkSession.builder.master('local[3]').appName('Realestate').getOrCreate()"
      ],
      "metadata": {
        "id": "xhVl_jNmJaZq"
      },
      "execution_count": null,
      "outputs": []
    },
    {
      "cell_type": "code",
      "source": [
        "import pandas "
      ],
      "metadata": {
        "id": "8BzYsvDTJjIe"
      },
      "execution_count": null,
      "outputs": []
    },
    {
      "cell_type": "code",
      "source": [
        "from google.colab import drive\n",
        "drive.mount('/content/drive')"
      ],
      "metadata": {
        "colab": {
          "base_uri": "https://localhost:8080/"
        },
        "id": "AS32IY7LJj_L",
        "outputId": "85a62cef-1917-4958-8157-c18beba70790"
      },
      "execution_count": null,
      "outputs": [
        {
          "output_type": "stream",
          "name": "stdout",
          "text": [
            "Mounted at /content/drive\n"
          ]
        }
      ]
    },
    {
      "cell_type": "code",
      "source": [
        "df = spark.read.csv('/content/drive/MyDrive/Spark_Toulouse/project_data_real_estate_toulouse_and_suburbs.csv',header=True,inferSchema=True)"
      ],
      "metadata": {
        "id": "qa1Fme4CKdR0"
      },
      "execution_count": null,
      "outputs": []
    },
    {
      "cell_type": "code",
      "source": [
        "df.show(5)"
      ],
      "metadata": {
        "colab": {
          "base_uri": "https://localhost:8080/"
        },
        "id": "fFLWnWksKpkQ",
        "outputId": "f0f7bdc7-c224-4fa8-9027-28ddf896ae7e"
      },
      "execution_count": null,
      "outputs": [
        {
          "output_type": "stream",
          "name": "stdout",
          "text": [
            "+--------------------------------------------------------------------------------------+\n",
            "|SaleDate;SaleType;Price;PostCode;City;NbRooms;NbLots;ResidenceType;LivingArea;LandArea|\n",
            "+--------------------------------------------------------------------------------------+\n",
            "|                                                                  15/01/2019;SALE;9...|\n",
            "|                                                                  21/01/2019;SALE;2...|\n",
            "|                                                                  03/01/2019;SALE;1...|\n",
            "|                                                                  11/01/2019;SALE;5...|\n",
            "|                                                                  15/01/2019;SALE;1...|\n",
            "+--------------------------------------------------------------------------------------+\n",
            "only showing top 5 rows\n",
            "\n"
          ]
        }
      ]
    },
    {
      "cell_type": "code",
      "source": [
        "dfschema = StructType([StructField(\"SaleDate\", StringType(), False),\n",
        "                       StructField(\"SaleType\", StringType(),False),\n",
        "                       StructField(\"Price\", IntegerType(), False),\n",
        "                       StructField(\"PostCode\", StringType(), False),\n",
        "                       StructField(\"City\", StringType(), False),\n",
        "                       StructField(\"NbRooms\",IntegerType(),False),\n",
        "                       StructField(\"NbLots\",IntegerType(),False),\n",
        "                       StructField(\"ResidenceType\", StringType(), False),\n",
        "                       StructField(\"LivingArea\", IntegerType(), False),\n",
        "                       StructField(\"LandArea\", IntegerType(), False) ])"
      ],
      "metadata": {
        "id": "MKzYsMnLKxDw"
      },
      "execution_count": null,
      "outputs": []
    },
    {
      "cell_type": "code",
      "source": [
        "df = spark.read.csv('/content/drive/MyDrive/Spark_Toulouse/project_data_real_estate_toulouse_and_suburbs.csv',schema=dfschema)\n",
        "df.show(5)\n"
      ],
      "metadata": {
        "colab": {
          "base_uri": "https://localhost:8080/"
        },
        "id": "8FymBRtPLMXj",
        "outputId": "2883ed6c-989d-485f-fd29-a51c6b8d269a"
      },
      "execution_count": null,
      "outputs": [
        {
          "output_type": "stream",
          "name": "stdout",
          "text": [
            "+--------------------+--------+-----+--------+----+-------+------+-------------+----------+--------+\n",
            "|            SaleDate|SaleType|Price|PostCode|City|NbRooms|NbLots|ResidenceType|LivingArea|LandArea|\n",
            "+--------------------+--------+-----+--------+----+-------+------+-------------+----------+--------+\n",
            "|SaleDate;SaleType...|    null| null|    null|null|   null|  null|         null|      null|    null|\n",
            "|15/01/2019;SALE;9...|    null| null|    null|null|   null|  null|         null|      null|    null|\n",
            "|21/01/2019;SALE;2...|    null| null|    null|null|   null|  null|         null|      null|    null|\n",
            "|03/01/2019;SALE;1...|    null| null|    null|null|   null|  null|         null|      null|    null|\n",
            "|11/01/2019;SALE;5...|    null| null|    null|null|   null|  null|         null|      null|    null|\n",
            "+--------------------+--------+-----+--------+----+-------+------+-------------+----------+--------+\n",
            "only showing top 5 rows\n",
            "\n"
          ]
        }
      ]
    },
    {
      "cell_type": "code",
      "source": [
        "df.toPandas().shape"
      ],
      "metadata": {
        "colab": {
          "base_uri": "https://localhost:8080/"
        },
        "id": "_7pq5vPkLZc-",
        "outputId": "b5012865-a58e-41f4-c8c8-c4eebe43d3c0"
      },
      "execution_count": null,
      "outputs": [
        {
          "output_type": "execute_result",
          "data": {
            "text/plain": [
              "(80119, 10)"
            ]
          },
          "metadata": {},
          "execution_count": 20
        }
      ]
    },
    {
      "cell_type": "code",
      "source": [
        "df.toPandas().info()"
      ],
      "metadata": {
        "colab": {
          "base_uri": "https://localhost:8080/"
        },
        "id": "v2e8tsLdLb7S",
        "outputId": "29d36a80-7cbd-45b4-9f77-942d0058f360"
      },
      "execution_count": null,
      "outputs": [
        {
          "output_type": "stream",
          "name": "stdout",
          "text": [
            "<class 'pandas.core.frame.DataFrame'>\n",
            "RangeIndex: 80119 entries, 0 to 80118\n",
            "Data columns (total 10 columns):\n",
            " #   Column         Non-Null Count  Dtype  \n",
            "---  ------         --------------  -----  \n",
            " 0   SaleDate       80119 non-null  object \n",
            " 1   SaleType       3013 non-null   object \n",
            " 2   Price          0 non-null      float64\n",
            " 3   PostCode       0 non-null      object \n",
            " 4   City           0 non-null      object \n",
            " 5   NbRooms        0 non-null      float64\n",
            " 6   NbLots         0 non-null      float64\n",
            " 7   ResidenceType  0 non-null      object \n",
            " 8   LivingArea     0 non-null      float64\n",
            " 9   LandArea       0 non-null      float64\n",
            "dtypes: float64(5), object(5)\n",
            "memory usage: 6.1+ MB\n"
          ]
        }
      ]
    },
    {
      "cell_type": "code",
      "source": [
        "#describe()\n",
        "df.toPandas().describe()"
      ],
      "metadata": {
        "colab": {
          "base_uri": "https://localhost:8080/",
          "height": 300
        },
        "id": "AbXvkYapLfBv",
        "outputId": "5fef8f25-d5c2-46db-f012-17114e6db021"
      },
      "execution_count": null,
      "outputs": [
        {
          "output_type": "execute_result",
          "data": {
            "text/plain": [
              "       Price  NbRooms  NbLots  LivingArea  LandArea\n",
              "count    0.0      0.0     0.0         0.0       0.0\n",
              "mean     NaN      NaN     NaN         NaN       NaN\n",
              "std      NaN      NaN     NaN         NaN       NaN\n",
              "min      NaN      NaN     NaN         NaN       NaN\n",
              "25%      NaN      NaN     NaN         NaN       NaN\n",
              "50%      NaN      NaN     NaN         NaN       NaN\n",
              "75%      NaN      NaN     NaN         NaN       NaN\n",
              "max      NaN      NaN     NaN         NaN       NaN"
            ],
            "text/html": [
              "\n",
              "  <div id=\"df-1efb59dd-4c3b-4043-bcf1-67da46c90bbc\">\n",
              "    <div class=\"colab-df-container\">\n",
              "      <div>\n",
              "<style scoped>\n",
              "    .dataframe tbody tr th:only-of-type {\n",
              "        vertical-align: middle;\n",
              "    }\n",
              "\n",
              "    .dataframe tbody tr th {\n",
              "        vertical-align: top;\n",
              "    }\n",
              "\n",
              "    .dataframe thead th {\n",
              "        text-align: right;\n",
              "    }\n",
              "</style>\n",
              "<table border=\"1\" class=\"dataframe\">\n",
              "  <thead>\n",
              "    <tr style=\"text-align: right;\">\n",
              "      <th></th>\n",
              "      <th>Price</th>\n",
              "      <th>NbRooms</th>\n",
              "      <th>NbLots</th>\n",
              "      <th>LivingArea</th>\n",
              "      <th>LandArea</th>\n",
              "    </tr>\n",
              "  </thead>\n",
              "  <tbody>\n",
              "    <tr>\n",
              "      <th>count</th>\n",
              "      <td>0.0</td>\n",
              "      <td>0.0</td>\n",
              "      <td>0.0</td>\n",
              "      <td>0.0</td>\n",
              "      <td>0.0</td>\n",
              "    </tr>\n",
              "    <tr>\n",
              "      <th>mean</th>\n",
              "      <td>NaN</td>\n",
              "      <td>NaN</td>\n",
              "      <td>NaN</td>\n",
              "      <td>NaN</td>\n",
              "      <td>NaN</td>\n",
              "    </tr>\n",
              "    <tr>\n",
              "      <th>std</th>\n",
              "      <td>NaN</td>\n",
              "      <td>NaN</td>\n",
              "      <td>NaN</td>\n",
              "      <td>NaN</td>\n",
              "      <td>NaN</td>\n",
              "    </tr>\n",
              "    <tr>\n",
              "      <th>min</th>\n",
              "      <td>NaN</td>\n",
              "      <td>NaN</td>\n",
              "      <td>NaN</td>\n",
              "      <td>NaN</td>\n",
              "      <td>NaN</td>\n",
              "    </tr>\n",
              "    <tr>\n",
              "      <th>25%</th>\n",
              "      <td>NaN</td>\n",
              "      <td>NaN</td>\n",
              "      <td>NaN</td>\n",
              "      <td>NaN</td>\n",
              "      <td>NaN</td>\n",
              "    </tr>\n",
              "    <tr>\n",
              "      <th>50%</th>\n",
              "      <td>NaN</td>\n",
              "      <td>NaN</td>\n",
              "      <td>NaN</td>\n",
              "      <td>NaN</td>\n",
              "      <td>NaN</td>\n",
              "    </tr>\n",
              "    <tr>\n",
              "      <th>75%</th>\n",
              "      <td>NaN</td>\n",
              "      <td>NaN</td>\n",
              "      <td>NaN</td>\n",
              "      <td>NaN</td>\n",
              "      <td>NaN</td>\n",
              "    </tr>\n",
              "    <tr>\n",
              "      <th>max</th>\n",
              "      <td>NaN</td>\n",
              "      <td>NaN</td>\n",
              "      <td>NaN</td>\n",
              "      <td>NaN</td>\n",
              "      <td>NaN</td>\n",
              "    </tr>\n",
              "  </tbody>\n",
              "</table>\n",
              "</div>\n",
              "      <button class=\"colab-df-convert\" onclick=\"convertToInteractive('df-1efb59dd-4c3b-4043-bcf1-67da46c90bbc')\"\n",
              "              title=\"Convert this dataframe to an interactive table.\"\n",
              "              style=\"display:none;\">\n",
              "        \n",
              "  <svg xmlns=\"http://www.w3.org/2000/svg\" height=\"24px\"viewBox=\"0 0 24 24\"\n",
              "       width=\"24px\">\n",
              "    <path d=\"M0 0h24v24H0V0z\" fill=\"none\"/>\n",
              "    <path d=\"M18.56 5.44l.94 2.06.94-2.06 2.06-.94-2.06-.94-.94-2.06-.94 2.06-2.06.94zm-11 1L8.5 8.5l.94-2.06 2.06-.94-2.06-.94L8.5 2.5l-.94 2.06-2.06.94zm10 10l.94 2.06.94-2.06 2.06-.94-2.06-.94-.94-2.06-.94 2.06-2.06.94z\"/><path d=\"M17.41 7.96l-1.37-1.37c-.4-.4-.92-.59-1.43-.59-.52 0-1.04.2-1.43.59L10.3 9.45l-7.72 7.72c-.78.78-.78 2.05 0 2.83L4 21.41c.39.39.9.59 1.41.59.51 0 1.02-.2 1.41-.59l7.78-7.78 2.81-2.81c.8-.78.8-2.07 0-2.86zM5.41 20L4 18.59l7.72-7.72 1.47 1.35L5.41 20z\"/>\n",
              "  </svg>\n",
              "      </button>\n",
              "      \n",
              "  <style>\n",
              "    .colab-df-container {\n",
              "      display:flex;\n",
              "      flex-wrap:wrap;\n",
              "      gap: 12px;\n",
              "    }\n",
              "\n",
              "    .colab-df-convert {\n",
              "      background-color: #E8F0FE;\n",
              "      border: none;\n",
              "      border-radius: 50%;\n",
              "      cursor: pointer;\n",
              "      display: none;\n",
              "      fill: #1967D2;\n",
              "      height: 32px;\n",
              "      padding: 0 0 0 0;\n",
              "      width: 32px;\n",
              "    }\n",
              "\n",
              "    .colab-df-convert:hover {\n",
              "      background-color: #E2EBFA;\n",
              "      box-shadow: 0px 1px 2px rgba(60, 64, 67, 0.3), 0px 1px 3px 1px rgba(60, 64, 67, 0.15);\n",
              "      fill: #174EA6;\n",
              "    }\n",
              "\n",
              "    [theme=dark] .colab-df-convert {\n",
              "      background-color: #3B4455;\n",
              "      fill: #D2E3FC;\n",
              "    }\n",
              "\n",
              "    [theme=dark] .colab-df-convert:hover {\n",
              "      background-color: #434B5C;\n",
              "      box-shadow: 0px 1px 3px 1px rgba(0, 0, 0, 0.15);\n",
              "      filter: drop-shadow(0px 1px 2px rgba(0, 0, 0, 0.3));\n",
              "      fill: #FFFFFF;\n",
              "    }\n",
              "  </style>\n",
              "\n",
              "      <script>\n",
              "        const buttonEl =\n",
              "          document.querySelector('#df-1efb59dd-4c3b-4043-bcf1-67da46c90bbc button.colab-df-convert');\n",
              "        buttonEl.style.display =\n",
              "          google.colab.kernel.accessAllowed ? 'block' : 'none';\n",
              "\n",
              "        async function convertToInteractive(key) {\n",
              "          const element = document.querySelector('#df-1efb59dd-4c3b-4043-bcf1-67da46c90bbc');\n",
              "          const dataTable =\n",
              "            await google.colab.kernel.invokeFunction('convertToInteractive',\n",
              "                                                     [key], {});\n",
              "          if (!dataTable) return;\n",
              "\n",
              "          const docLinkHtml = 'Like what you see? Visit the ' +\n",
              "            '<a target=\"_blank\" href=https://colab.research.google.com/notebooks/data_table.ipynb>data table notebook</a>'\n",
              "            + ' to learn more about interactive tables.';\n",
              "          element.innerHTML = '';\n",
              "          dataTable['output_type'] = 'display_data';\n",
              "          await google.colab.output.renderOutput(dataTable, element);\n",
              "          const docLink = document.createElement('div');\n",
              "          docLink.innerHTML = docLinkHtml;\n",
              "          element.appendChild(docLink);\n",
              "        }\n",
              "      </script>\n",
              "    </div>\n",
              "  </div>\n",
              "  "
            ]
          },
          "metadata": {},
          "execution_count": 22
        }
      ]
    },
    {
      "cell_type": "code",
      "source": [
        "import pyspark.sql.functions as f\n",
        "\n",
        "evolution_price= df.groupBy('SaleDate')\\\n",
        "                                         .agg(f.sum('Price')/f.sum('LivingArea'))\\\n",
        "                                         .withColumnRenamed('(sum(Price) / sum(LivingArea))', 'Price_square')\\\n",
        "                                         .orderBy('Price_square', ascending=False)\n",
        "\n",
        "evolution_price.show(10)"
      ],
      "metadata": {
        "colab": {
          "base_uri": "https://localhost:8080/"
        },
        "id": "NomobIniLhYU",
        "outputId": "86e1ba5a-5c7c-459e-9a60-3f9b0d62e3d6"
      },
      "execution_count": null,
      "outputs": [
        {
          "output_type": "stream",
          "name": "stdout",
          "text": [
            "+--------------------+------------+\n",
            "|            SaleDate|Price_square|\n",
            "+--------------------+------------+\n",
            "|31/08/2018;SALE;2...|        null|\n",
            "|29/03/2017;SALE;1...|        null|\n",
            "|11/02/2019;SALE;1...|        null|\n",
            "|23/10/2017;SALE;5...|        null|\n",
            "|16/02/2016;SALE B...|        null|\n",
            "|25/08/2015;SALE;1...|        null|\n",
            "|31/08/2015;SALE B...|        null|\n",
            "|17/09/2015;SALE;1...|        null|\n",
            "|22/12/2015;SALE;3...|        null|\n",
            "|08/01/2019;SALE;7...|        null|\n",
            "+--------------------+------------+\n",
            "only showing top 10 rows\n",
            "\n"
          ]
        }
      ]
    },
    {
      "cell_type": "code",
      "source": [
        "plt.figure(figsize=(10,10))\n",
        "sns.lineplot(x='SaleDate',y='Price_square' ,data=evolution_price.toPandas())"
      ],
      "metadata": {
        "colab": {
          "base_uri": "https://localhost:8080/",
          "height": 623
        },
        "id": "Mp903bkOL2Zx",
        "outputId": "24b919e8-b919-4248-efd6-5baae101776f"
      },
      "execution_count": null,
      "outputs": [
        {
          "output_type": "execute_result",
          "data": {
            "text/plain": [
              "<matplotlib.axes._subplots.AxesSubplot at 0x7fcaba2f7510>"
            ]
          },
          "metadata": {},
          "execution_count": 25
        },
        {
          "output_type": "display_data",
          "data": {
            "text/plain": [
              "<Figure size 720x720 with 1 Axes>"
            ],
            "image/png": "[encoded data removed]"
          },
          "metadata": {
            "needs_background": "light"
          }
        }
      ]
    },
    {
      "cell_type": "code",
      "source": [
        "df_evolution_price=evolution_price.toPandas()\n",
        "df_evolution_price.set_index(\"SaleDate\",inplace=True)"
      ],
      "metadata": {
        "id": "6LtPIIPPL9Jd"
      },
      "execution_count": null,
      "outputs": []
    },
    {
      "cell_type": "code",
      "source": [
        "import pyspark.sql.functions as f\n",
        "\n",
        "evolution_price_per_city = df.groupBy('City')\\\n",
        "                                         .agg(f.sum('Price')/f.sum('LivingArea'))\\\n",
        "                                         .withColumnRenamed('(sum(Price) / sum(LivingArea))', 'Price_square')\\\n",
        "                                         .orderBy('Price_square', ascending=False)\n",
        "\n",
        "evolution_price_per_city .show(10)"
      ],
      "metadata": {
        "id": "1vShbMr5L_9R"
      },
      "execution_count": null,
      "outputs": []
    }
  ]
}